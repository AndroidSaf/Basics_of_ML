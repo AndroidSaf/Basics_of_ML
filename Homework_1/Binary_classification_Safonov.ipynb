{
  "nbformat": 4,
  "nbformat_minor": 0,
  "metadata": {
    "kernelspec": {
      "display_name": "Python 3",
      "language": "python",
      "name": "python3"
    },
    "language_info": {
      "codemirror_mode": {
        "name": "ipython",
        "version": 3
      },
      "file_extension": ".py",
      "mimetype": "text/x-python",
      "name": "python",
      "nbconvert_exporter": "python",
      "pygments_lexer": "ipython3",
      "version": "3.8.0"
    },
    "colab": {
      "name": "Binary_classification_Safonov.ipynb",
      "provenance": [],
      "collapsed_sections": []
    }
  },
  "cells": [
    {
      "cell_type": "markdown",
      "metadata": {
        "id": "YCDxfMJunwx9"
      },
      "source": [
        "В качестве домашнего задания вам предлагается поработать над предсказанием погоды. Файл с данными вы найдете в соответствующей директории. Вам будет доступен датасет weather.csv, ПЕРВЫЕ 75% (shuffle = False) которого нужно взять для обучения, последние 25% - для тестирования.\n",
        "\n",
        "Требуется построить 4 модели которые будут предсказывать целевую переменную <b>RainTomorrow</b> с помощью:\n",
        "\n",
        "   1. логистической регрессии [sklearn.linear_model.LogisticRegression](https://scikit-learn.org/stable/modules/generated/sklearn.linear_model.LogisticRegression.html#sklearn.linear_model.LogisticRegression)\n",
        "   \n",
        "   2. метода ближайших соседей [sklearn.neighbors](https://scikit-learn.org/stable/modules/neighbors.html)\n",
        " \n",
        "   3. Байесовского классификатора [sklearn.naive_bayes](https://scikit-learn.org/stable/modules/naive_bayes.html)\n",
        "   \n",
        "   4. логистической регрессии реализованной самостоятельно\n",
        "\n",
        "Затем следует сравнить результаты моделей (по качеству и времени выполнения) и сделать вывод о том, какая модель и с какими параметрами даёт лучшие результаты.\n",
        "\n",
        "Не забывайте о том, что работа с признаками играет очень большую роль в построении хорошей модели.\n",
        "\n",
        "Краткое описание данных:\n",
        "\n",
        "    Date - Дата наблюдений\n",
        "    Location - Название локации, в которой расположена метеорологическая станция\n",
        "    MinTemp - Минимальная температура в градусах цельсия\n",
        "    MaxTemp - Максимальная температура в градусах цельсия\n",
        "    Rainfall - Количество осадков, зафиксированных за день в мм\n",
        "    Evaporation - Так называемое \"pan evaporation\" класса А (мм) за 24 часа до 9 утра\n",
        "    Sunshine - Число солнечных часов за день\n",
        "    WindGustDir - направление самого сильного порыва ветра за последние 24 часа\n",
        "    WindGustSpeed - скорость (км / ч) самого сильного порыва ветра за последние 24 часа\n",
        "    WindDir9am - направление ветра в 9 утра"
      ]
    },
    {
      "cell_type": "code",
      "metadata": {
        "scrolled": true,
        "id": "adV8Kw1Lnwx_"
      },
      "source": [
        "import pandas as pd\n",
        "import numpy as np\n",
        "import scipy.stats as sp\n",
        "\n",
        "import matplotlib.pyplot as plt\n",
        "import seaborn as sns\n",
        "import time\n",
        "\n",
        "from sklearn.datasets import make_classification\n",
        "from sklearn.metrics import precision_score, recall_score, f1_score, roc_auc_score, classification_report, confusion_matrix\n",
        "from sklearn.model_selection import train_test_split, GridSearchCV\n",
        "from sklearn.preprocessing import LabelEncoder, StandardScaler\n",
        "from sklearn.linear_model import LogisticRegression\n",
        "from sklearn.neighbors import KNeighborsClassifier\n",
        "from sklearn.naive_bayes import GaussianNB\n",
        "\n",
        "sns.set()\n",
        "import warnings\n",
        "warnings.filterwarnings(\"ignore\")\n",
        "%matplotlib inline"
      ],
      "execution_count": 39,
      "outputs": []
    },
    {
      "cell_type": "code",
      "metadata": {
        "id": "MHKsFiJqnwyA"
      },
      "source": [
        "X = pd.read_csv('https://raw.githubusercontent.com/AndroidSaf/Basics_of_ML/main/Homework_1/weather.csv', index_col=0)"
      ],
      "execution_count": 40,
      "outputs": []
    },
    {
      "cell_type": "code",
      "metadata": {
        "id": "_gd7ZX62nwyA"
      },
      "source": [
        "y = X.RainTomorrow.replace({'No':0, 'Yes': 1})"
      ],
      "execution_count": 41,
      "outputs": []
    },
    {
      "cell_type": "code",
      "metadata": {
        "id": "jej82CCtnwyA"
      },
      "source": [
        "del X['RainTomorrow']"
      ],
      "execution_count": 42,
      "outputs": []
    },
    {
      "cell_type": "markdown",
      "metadata": {
        "id": "qHJpPK2nnwyB"
      },
      "source": [
        "## Обработка признаков"
      ]
    },
    {
      "cell_type": "code",
      "metadata": {
        "colab": {
          "base_uri": "https://localhost:8080/"
        },
        "id": "-49bqto0nwyB",
        "outputId": "fbdeb9e0-2ebf-448a-da9b-bcaaf63faf25"
      },
      "source": [
        "counts = np.unique(y.values, return_counts=True)[1]\n",
        "print('Процент меток, определяющих отсутствие дождя (0): {} %'.format(round(counts[0] / len(y), 4) * 100))\n",
        "print('Процент меток, определяющих наличие дождя (1): {} %'.format(round(counts[1] / len(y), 4) * 100))"
      ],
      "execution_count": 43,
      "outputs": [
        {
          "output_type": "stream",
          "name": "stdout",
          "text": [
            "Процент меток, определяющих отсутствие дождя (0): 77.58 %\n",
            "Процент меток, определяющих наличие дождя (1): 22.42 %\n"
          ]
        }
      ]
    },
    {
      "cell_type": "code",
      "metadata": {
        "id": "lqtZm0cynwyC"
      },
      "source": [
        "del X['Date']"
      ],
      "execution_count": 44,
      "outputs": []
    },
    {
      "cell_type": "code",
      "metadata": {
        "id": "WG8kb8Q7nwyC"
      },
      "source": [
        "X.RainToday = X.RainToday.replace({'No': 0, 'Yes': 1})"
      ],
      "execution_count": 45,
      "outputs": []
    },
    {
      "cell_type": "code",
      "metadata": {
        "id": "20e4KT90nwyC"
      },
      "source": [
        "corr_matrix = X.corr().abs()\n",
        "upper_corr = corr_matrix.where(np.triu(np.ones(corr_matrix.shape), k=1).astype(np.bool))\n",
        "high_corr_columns = [column for column in upper_corr.columns if any(upper_corr[column] > 0.6)]\n",
        "X = X.drop(high_corr_columns, axis=1)"
      ],
      "execution_count": 46,
      "outputs": []
    },
    {
      "cell_type": "code",
      "metadata": {
        "colab": {
          "base_uri": "https://localhost:8080/",
          "height": 204
        },
        "id": "S8p5W94znwyD",
        "outputId": "6cda1e99-7d84-4942-e6d8-abc8d2ecdb88"
      },
      "source": [
        "X.head()"
      ],
      "execution_count": 47,
      "outputs": [
        {
          "output_type": "execute_result",
          "data": {
            "text/html": [
              "<div>\n",
              "<style scoped>\n",
              "    .dataframe tbody tr th:only-of-type {\n",
              "        vertical-align: middle;\n",
              "    }\n",
              "\n",
              "    .dataframe tbody tr th {\n",
              "        vertical-align: top;\n",
              "    }\n",
              "\n",
              "    .dataframe thead th {\n",
              "        text-align: right;\n",
              "    }\n",
              "</style>\n",
              "<table border=\"1\" class=\"dataframe\">\n",
              "  <thead>\n",
              "    <tr style=\"text-align: right;\">\n",
              "      <th></th>\n",
              "      <th>Location</th>\n",
              "      <th>MinTemp</th>\n",
              "      <th>Rainfall</th>\n",
              "      <th>Evaporation</th>\n",
              "      <th>Sunshine</th>\n",
              "      <th>WindGustDir</th>\n",
              "      <th>WindGustSpeed</th>\n",
              "      <th>WindDir9am</th>\n",
              "      <th>WindDir3pm</th>\n",
              "      <th>Humidity9am</th>\n",
              "      <th>Pressure9am</th>\n",
              "      <th>RainToday</th>\n",
              "    </tr>\n",
              "  </thead>\n",
              "  <tbody>\n",
              "    <tr>\n",
              "      <th>0</th>\n",
              "      <td>Albury</td>\n",
              "      <td>13.4</td>\n",
              "      <td>0.6</td>\n",
              "      <td>NaN</td>\n",
              "      <td>NaN</td>\n",
              "      <td>W</td>\n",
              "      <td>44.0</td>\n",
              "      <td>W</td>\n",
              "      <td>WNW</td>\n",
              "      <td>71.0</td>\n",
              "      <td>1007.7</td>\n",
              "      <td>0.0</td>\n",
              "    </tr>\n",
              "    <tr>\n",
              "      <th>1</th>\n",
              "      <td>Albury</td>\n",
              "      <td>7.4</td>\n",
              "      <td>0.0</td>\n",
              "      <td>NaN</td>\n",
              "      <td>NaN</td>\n",
              "      <td>WNW</td>\n",
              "      <td>44.0</td>\n",
              "      <td>NNW</td>\n",
              "      <td>WSW</td>\n",
              "      <td>44.0</td>\n",
              "      <td>1010.6</td>\n",
              "      <td>0.0</td>\n",
              "    </tr>\n",
              "    <tr>\n",
              "      <th>2</th>\n",
              "      <td>Albury</td>\n",
              "      <td>12.9</td>\n",
              "      <td>0.0</td>\n",
              "      <td>NaN</td>\n",
              "      <td>NaN</td>\n",
              "      <td>WSW</td>\n",
              "      <td>46.0</td>\n",
              "      <td>W</td>\n",
              "      <td>WSW</td>\n",
              "      <td>38.0</td>\n",
              "      <td>1007.6</td>\n",
              "      <td>0.0</td>\n",
              "    </tr>\n",
              "    <tr>\n",
              "      <th>3</th>\n",
              "      <td>Albury</td>\n",
              "      <td>9.2</td>\n",
              "      <td>0.0</td>\n",
              "      <td>NaN</td>\n",
              "      <td>NaN</td>\n",
              "      <td>NE</td>\n",
              "      <td>24.0</td>\n",
              "      <td>SE</td>\n",
              "      <td>E</td>\n",
              "      <td>45.0</td>\n",
              "      <td>1017.6</td>\n",
              "      <td>0.0</td>\n",
              "    </tr>\n",
              "    <tr>\n",
              "      <th>4</th>\n",
              "      <td>Albury</td>\n",
              "      <td>17.5</td>\n",
              "      <td>1.0</td>\n",
              "      <td>NaN</td>\n",
              "      <td>NaN</td>\n",
              "      <td>W</td>\n",
              "      <td>41.0</td>\n",
              "      <td>ENE</td>\n",
              "      <td>NW</td>\n",
              "      <td>82.0</td>\n",
              "      <td>1010.8</td>\n",
              "      <td>0.0</td>\n",
              "    </tr>\n",
              "  </tbody>\n",
              "</table>\n",
              "</div>"
            ],
            "text/plain": [
              "  Location  MinTemp  Rainfall  ...  Humidity9am  Pressure9am RainToday\n",
              "0   Albury     13.4       0.6  ...         71.0       1007.7       0.0\n",
              "1   Albury      7.4       0.0  ...         44.0       1010.6       0.0\n",
              "2   Albury     12.9       0.0  ...         38.0       1007.6       0.0\n",
              "3   Albury      9.2       0.0  ...         45.0       1017.6       0.0\n",
              "4   Albury     17.5       1.0  ...         82.0       1010.8       0.0\n",
              "\n",
              "[5 rows x 12 columns]"
            ]
          },
          "metadata": {},
          "execution_count": 47
        }
      ]
    },
    {
      "cell_type": "code",
      "metadata": {
        "id": "w-Mg5zbZnwyD"
      },
      "source": [
        "del X['WindDir9am']\n",
        "del X['WindDir3pm']"
      ],
      "execution_count": 48,
      "outputs": []
    },
    {
      "cell_type": "code",
      "metadata": {
        "id": "oRHqucbenwyD"
      },
      "source": [
        "X.MinTemp = X.MinTemp.fillna(X.MinTemp.median())\n",
        "X.Rainfall = X.Rainfall.fillna(X.Rainfall.median())"
      ],
      "execution_count": 49,
      "outputs": []
    },
    {
      "cell_type": "code",
      "metadata": {
        "id": "kcMVktAWnwyE"
      },
      "source": [
        "numeric_feature_names = X.select_dtypes(exclude='O').columns\n",
        "\n",
        "for feature in numeric_feature_names:\n",
        "    median = X[['Location', feature]].groupby(['Location'], \n",
        "                                       as_index=False).median().sort_values(by=feature, ascending=False)\n",
        "    median = median[~median[feature].isna()].values\n",
        "    for step in median:\n",
        "        X[feature].where(~X[X['Location'] == step[0]][feature].isin([np.nan]), other=step[1], inplace=True)"
      ],
      "execution_count": 50,
      "outputs": []
    },
    {
      "cell_type": "code",
      "metadata": {
        "id": "ChYmwhqBnwyE"
      },
      "source": [
        "wind_by_location = X[['Location', 'WindGustDir', 'RainToday']].groupby(['Location', 'WindGustDir'], \n",
        "                                       as_index=False).count().sort_values(by=['Location', 'RainToday'], \n",
        "                                                                          ascending=False)\n",
        "most_common_dir = wind_by_location.groupby(['Location'], \n",
        "                                       as_index=False).max().sort_values(by=['Location', 'RainToday'], \n",
        "                                                                                           ascending=False)\n",
        "wind_dir = most_common_dir['WindGustDir'].value_counts().index[0]\n",
        "X.WindGustDir = X.WindGustDir.fillna(wind_dir)"
      ],
      "execution_count": 51,
      "outputs": []
    },
    {
      "cell_type": "code",
      "metadata": {
        "id": "4evTszFTnwyE"
      },
      "source": [
        "X.WindGustSpeed = X.WindGustSpeed.fillna(X.WindGustSpeed.median())\n",
        "X.Pressure9am = X.Pressure9am.fillna(X.Pressure9am.median())"
      ],
      "execution_count": 52,
      "outputs": []
    },
    {
      "cell_type": "code",
      "metadata": {
        "id": "KXYv22qenwyF"
      },
      "source": [
        "features = ['Evaporation', 'Sunshine']\n",
        "pivot_table_dir = X[['WindGustDir', 'Evaporation', 'Sunshine']].groupby(['WindGustDir'], \n",
        "                                       as_index=False).median().sort_values(by=['Evaporation', 'Sunshine'], ascending=False)\n",
        "for i in range(pivot_table_dir.shape[0]):\n",
        "    X.Evaporation.where(~X[X.WindGustDir == pivot_table_dir.loc[i][0]].Evaporation.isin([np.nan]), \n",
        "                        other=pivot_table_dir.loc[i][1], inplace=True)\n",
        "    X.Sunshine.where(~X[X.WindGustDir == pivot_table_dir.loc[i][0]].Sunshine.isin([np.nan]), \n",
        "                        other=pivot_table_dir.loc[i][2], inplace=True)"
      ],
      "execution_count": 53,
      "outputs": []
    },
    {
      "cell_type": "code",
      "metadata": {
        "id": "PlPomsb-nwyF"
      },
      "source": [
        "label_encoder = LabelEncoder()\n",
        "X.Location = label_encoder.fit_transform(X.Location.values)\n",
        "X.WindGustDir = label_encoder.fit_transform(X.WindGustDir.values)"
      ],
      "execution_count": 54,
      "outputs": []
    },
    {
      "cell_type": "code",
      "metadata": {
        "id": "nTKLSDIznwyG"
      },
      "source": [
        "std = StandardScaler()\n",
        "X[X.columns[:-1]] = std.fit_transform(X[X.columns[:-1]].values)"
      ],
      "execution_count": 55,
      "outputs": []
    },
    {
      "cell_type": "code",
      "metadata": {
        "colab": {
          "base_uri": "https://localhost:8080/",
          "height": 204
        },
        "id": "oh-b-jrNnwyG",
        "outputId": "83162bb1-6a25-4fb2-96e9-77f1bff7be02"
      },
      "source": [
        "X.head()"
      ],
      "execution_count": 56,
      "outputs": [
        {
          "output_type": "execute_result",
          "data": {
            "text/html": [
              "<div>\n",
              "<style scoped>\n",
              "    .dataframe tbody tr th:only-of-type {\n",
              "        vertical-align: middle;\n",
              "    }\n",
              "\n",
              "    .dataframe tbody tr th {\n",
              "        vertical-align: top;\n",
              "    }\n",
              "\n",
              "    .dataframe thead th {\n",
              "        text-align: right;\n",
              "    }\n",
              "</style>\n",
              "<table border=\"1\" class=\"dataframe\">\n",
              "  <thead>\n",
              "    <tr style=\"text-align: right;\">\n",
              "      <th></th>\n",
              "      <th>Location</th>\n",
              "      <th>MinTemp</th>\n",
              "      <th>Rainfall</th>\n",
              "      <th>Evaporation</th>\n",
              "      <th>Sunshine</th>\n",
              "      <th>WindGustDir</th>\n",
              "      <th>WindGustSpeed</th>\n",
              "      <th>Humidity9am</th>\n",
              "      <th>Pressure9am</th>\n",
              "      <th>RainToday</th>\n",
              "    </tr>\n",
              "  </thead>\n",
              "  <tbody>\n",
              "    <tr>\n",
              "      <th>0</th>\n",
              "      <td>-1.527004</td>\n",
              "      <td>0.190085</td>\n",
              "      <td>-0.204920</td>\n",
              "      <td>-0.442077</td>\n",
              "      <td>-0.086942</td>\n",
              "      <td>0.990528</td>\n",
              "      <td>0.308922</td>\n",
              "      <td>0.108844</td>\n",
              "      <td>-1.473826</td>\n",
              "      <td>0.0</td>\n",
              "    </tr>\n",
              "    <tr>\n",
              "      <th>1</th>\n",
              "      <td>-1.527004</td>\n",
              "      <td>-0.749042</td>\n",
              "      <td>-0.276125</td>\n",
              "      <td>-0.319202</td>\n",
              "      <td>-0.016129</td>\n",
              "      <td>1.196471</td>\n",
              "      <td>0.308922</td>\n",
              "      <td>-1.313293</td>\n",
              "      <td>-1.044051</td>\n",
              "      <td>0.0</td>\n",
              "    </tr>\n",
              "    <tr>\n",
              "      <th>2</th>\n",
              "      <td>-1.527004</td>\n",
              "      <td>0.111824</td>\n",
              "      <td>-0.276125</td>\n",
              "      <td>-0.319202</td>\n",
              "      <td>-0.016129</td>\n",
              "      <td>1.402414</td>\n",
              "      <td>0.461063</td>\n",
              "      <td>-1.629323</td>\n",
              "      <td>-1.488646</td>\n",
              "      <td>0.0</td>\n",
              "    </tr>\n",
              "    <tr>\n",
              "      <th>3</th>\n",
              "      <td>-1.527004</td>\n",
              "      <td>-0.467304</td>\n",
              "      <td>-0.276125</td>\n",
              "      <td>0.049422</td>\n",
              "      <td>0.585777</td>\n",
              "      <td>-0.862955</td>\n",
              "      <td>-1.212483</td>\n",
              "      <td>-1.260621</td>\n",
              "      <td>-0.006663</td>\n",
              "      <td>0.0</td>\n",
              "    </tr>\n",
              "    <tr>\n",
              "      <th>4</th>\n",
              "      <td>-1.527004</td>\n",
              "      <td>0.831821</td>\n",
              "      <td>-0.157450</td>\n",
              "      <td>-0.442077</td>\n",
              "      <td>-0.086942</td>\n",
              "      <td>0.990528</td>\n",
              "      <td>0.080711</td>\n",
              "      <td>0.688233</td>\n",
              "      <td>-1.014411</td>\n",
              "      <td>0.0</td>\n",
              "    </tr>\n",
              "  </tbody>\n",
              "</table>\n",
              "</div>"
            ],
            "text/plain": [
              "   Location   MinTemp  Rainfall  ...  Humidity9am  Pressure9am  RainToday\n",
              "0 -1.527004  0.190085 -0.204920  ...     0.108844    -1.473826        0.0\n",
              "1 -1.527004 -0.749042 -0.276125  ...    -1.313293    -1.044051        0.0\n",
              "2 -1.527004  0.111824 -0.276125  ...    -1.629323    -1.488646        0.0\n",
              "3 -1.527004 -0.467304 -0.276125  ...    -1.260621    -0.006663        0.0\n",
              "4 -1.527004  0.831821 -0.157450  ...     0.688233    -1.014411        0.0\n",
              "\n",
              "[5 rows x 10 columns]"
            ]
          },
          "metadata": {},
          "execution_count": 56
        }
      ]
    },
    {
      "cell_type": "code",
      "metadata": {
        "colab": {
          "base_uri": "https://localhost:8080/",
          "height": 592
        },
        "id": "LYwKPwV8nwyG",
        "outputId": "392c1570-7ef3-47bf-9ee7-df0c1e55e8d5"
      },
      "source": [
        "plt.figure(figsize=(10,10))\n",
        "corr = X.loc[:,:].corr()\n",
        "cmap = sns.diverging_palette(230, 20, as_cmap=True)\n",
        "sns.heatmap(corr, cmap=cmap, vmax=1, center=0, square=True, linewidths=1, cbar_kws={\"shrink\": .5}, annot=True)"
      ],
      "execution_count": 57,
      "outputs": [
        {
          "output_type": "execute_result",
          "data": {
            "text/plain": [
              "<matplotlib.axes._subplots.AxesSubplot at 0x7f35c610a450>"
            ]
          },
          "metadata": {},
          "execution_count": 57
        },
        {
          "output_type": "display_data",
          "data": {
            "image/png": "[encoded data removed]",
            "text/plain": [
              "<Figure size 720x720 with 2 Axes>"
            ]
          },
          "metadata": {
            "needs_background": "light"
          }
        }
      ]
    },
    {
      "cell_type": "code",
      "metadata": {
        "id": "mxd-2tmlnwyH"
      },
      "source": [
        "x_train, x_test, y_train, y_test = train_test_split(X, y, test_size = 0.25, shuffle = False)"
      ],
      "execution_count": 58,
      "outputs": []
    },
    {
      "cell_type": "markdown",
      "metadata": {
        "id": "ZE1bmrW5nwyH"
      },
      "source": [
        "## Логистическая регрессия"
      ]
    },
    {
      "cell_type": "code",
      "metadata": {
        "colab": {
          "base_uri": "https://localhost:8080/"
        },
        "id": "EMNYv0RXnwyH",
        "outputId": "3152c0c4-b19c-40de-edaa-dc629c58c2ce"
      },
      "source": [
        "%%time\n",
        "LR = LogisticRegression(C=3, class_weight='balanced', n_jobs=-1)\n",
        "LR.fit(x_train, y_train)\n",
        "y_pred = LR.predict(x_test)\n",
        "print(classification_report(y_test, y_pred, target_names=['No', 'Yes']))"
      ],
      "execution_count": 59,
      "outputs": [
        {
          "output_type": "stream",
          "name": "stdout",
          "text": [
            "              precision    recall  f1-score   support\n",
            "\n",
            "          No       0.91      0.81      0.86     27882\n",
            "         Yes       0.50      0.70      0.59      7667\n",
            "\n",
            "    accuracy                           0.79     35549\n",
            "   macro avg       0.71      0.76      0.72     35549\n",
            "weighted avg       0.82      0.79      0.80     35549\n",
            "\n",
            "CPU times: user 147 ms, sys: 108 ms, total: 255 ms\n",
            "Wall time: 859 ms\n"
          ]
        }
      ]
    },
    {
      "cell_type": "code",
      "metadata": {
        "colab": {
          "base_uri": "https://localhost:8080/",
          "height": 230
        },
        "id": "EnjH8td2nwyH",
        "outputId": "a952aed2-6f5a-4a80-a792-f0d3090baca1"
      },
      "source": [
        "plt.figure(figsize=(4,3))\n",
        "cmap = sns.diverging_palette(180, 150, as_cmap=True)\n",
        "sns.heatmap(pd.DataFrame(confusion_matrix(y_test, y_pred), index=[0, 1], \n",
        "                         columns=[0, 1]), annot=True, linewidths=1, cmap=cmap, square=True)"
      ],
      "execution_count": 60,
      "outputs": [
        {
          "output_type": "execute_result",
          "data": {
            "text/plain": [
              "<matplotlib.axes._subplots.AxesSubplot at 0x7f35c68fc790>"
            ]
          },
          "metadata": {},
          "execution_count": 60
        },
        {
          "output_type": "display_data",
          "data": {
            "image/png": "[encoded data removed]",
            "text/plain": [
              "<Figure size 288x216 with 2 Axes>"
            ]
          },
          "metadata": {
            "needs_background": "light"
          }
        }
      ]
    },
    {
      "cell_type": "code",
      "metadata": {
        "colab": {
          "base_uri": "https://localhost:8080/"
        },
        "id": "E7Y-6F0unwyI",
        "outputId": "bd2eaf3b-e051-464b-8a2b-cf54ade763a0"
      },
      "source": [
        "params = {'C': np.arange(1,11)}\n",
        "LR = LogisticRegression(class_weight='balanced', n_jobs=-1)\n",
        "clf_grid = GridSearchCV(LR, params, scoring='recall', refit=True, n_jobs=-1, cv=5, verbose=1)\n",
        "clf_grid.fit(x_train, y_train)\n",
        "print(clf_grid.best_params_)"
      ],
      "execution_count": 61,
      "outputs": [
        {
          "output_type": "stream",
          "name": "stdout",
          "text": [
            "Fitting 5 folds for each of 10 candidates, totalling 50 fits\n"
          ]
        },
        {
          "output_type": "stream",
          "name": "stderr",
          "text": [
            "[Parallel(n_jobs=-1)]: Using backend LokyBackend with 2 concurrent workers.\n",
            "[Parallel(n_jobs=-1)]: Done  46 tasks      | elapsed:    9.0s\n",
            "[Parallel(n_jobs=-1)]: Done  50 out of  50 | elapsed:    9.7s finished\n"
          ]
        },
        {
          "output_type": "stream",
          "name": "stdout",
          "text": [
            "{'C': 3}\n"
          ]
        }
      ]
    },
    {
      "cell_type": "markdown",
      "metadata": {
        "id": "yQ1ibZGKnwyI"
      },
      "source": [
        "## K ближайших соседей"
      ]
    },
    {
      "cell_type": "code",
      "metadata": {
        "colab": {
          "base_uri": "https://localhost:8080/"
        },
        "id": "60KWGh6dnwyI",
        "outputId": "8b5a0b1f-692f-4ac4-e682-38e1c865dd8a"
      },
      "source": [
        "%%time\n",
        "KNN = KNeighborsClassifier(n_neighbors=1, weights='distance', p=x_train.shape[1], n_jobs=-1)\n",
        "KNN.fit(x_train, y_train)\n",
        "y_pred = KNN.predict(x_test)\n",
        "print(classification_report(y_test, y_pred, target_names=['No', 'Yes']))"
      ],
      "execution_count": 62,
      "outputs": [
        {
          "output_type": "stream",
          "name": "stdout",
          "text": [
            "              precision    recall  f1-score   support\n",
            "\n",
            "          No       0.84      0.84      0.84     27882\n",
            "         Yes       0.42      0.43      0.42      7667\n",
            "\n",
            "    accuracy                           0.75     35549\n",
            "   macro avg       0.63      0.63      0.63     35549\n",
            "weighted avg       0.75      0.75      0.75     35549\n",
            "\n",
            "CPU times: user 1min 34s, sys: 16.4 ms, total: 1min 34s\n",
            "Wall time: 49.5 s\n"
          ]
        }
      ]
    },
    {
      "cell_type": "code",
      "metadata": {
        "colab": {
          "base_uri": "https://localhost:8080/",
          "height": 230
        },
        "id": "lx06_GzknwyI",
        "outputId": "15d04de9-1e3a-4549-a6d9-83ea9240c17f"
      },
      "source": [
        "plt.figure(figsize=(4,3))\n",
        "cmap = sns.diverging_palette(180, 150, as_cmap=True)\n",
        "sns.heatmap(pd.DataFrame(confusion_matrix(y_test, y_pred), index=[0, 1], \n",
        "                         columns=[0, 1]), annot=True, linewidths=1, cmap=cmap, square=True)"
      ],
      "execution_count": 63,
      "outputs": [
        {
          "output_type": "execute_result",
          "data": {
            "text/plain": [
              "<matplotlib.axes._subplots.AxesSubplot at 0x7f35c71a3690>"
            ]
          },
          "metadata": {},
          "execution_count": 63
        },
        {
          "output_type": "display_data",
          "data": {
            "image/png": "[encoded data removed]",
            "text/plain": [
              "<Figure size 288x216 with 2 Axes>"
            ]
          },
          "metadata": {
            "needs_background": "light"
          }
        }
      ]
    },
    {
      "cell_type": "code",
      "metadata": {
        "id": "9RtapC5znwyJ"
      },
      "source": [
        "params = {'n_neighbors': np.arange(1,10)}\n",
        "LR = KNeighborsClassifier(weights='distance', p=x_train.shape[1], n_jobs=-1)\n",
        "clf_grid = GridSearchCV(LR, params, scoring='recall', refit=True, n_jobs=-1, cv=5, verbose=1)\n",
        "clf_grid.fit(x_train, y_train)\n",
        "print(clf_grid.best_params_)"
      ],
      "execution_count": 65,
      "outputs": []
    },
    {
      "cell_type": "markdown",
      "metadata": {
        "id": "Qsi5pOR4nwyJ"
      },
      "source": [
        "## Наивный Байес"
      ]
    },
    {
      "cell_type": "code",
      "metadata": {
        "colab": {
          "base_uri": "https://localhost:8080/"
        },
        "id": "glC8XN3cnwyJ",
        "outputId": "f284092d-d5cb-4af6-de74-e42936276198"
      },
      "source": [
        "%%time\n",
        "NB = GaussianNB()\n",
        "NB.fit(x_train, y_train)\n",
        "y_pred = NB.predict(x_test)\n",
        "print(classification_report(y_test, y_pred, target_names=['No', 'Yes']))"
      ],
      "execution_count": 66,
      "outputs": [
        {
          "output_type": "stream",
          "name": "stdout",
          "text": [
            "              precision    recall  f1-score   support\n",
            "\n",
            "          No       0.86      0.92      0.89     27882\n",
            "         Yes       0.61      0.45      0.52      7667\n",
            "\n",
            "    accuracy                           0.82     35549\n",
            "   macro avg       0.73      0.69      0.70     35549\n",
            "weighted avg       0.81      0.82      0.81     35549\n",
            "\n",
            "CPU times: user 103 ms, sys: 2.85 ms, total: 106 ms\n",
            "Wall time: 108 ms\n"
          ]
        }
      ]
    },
    {
      "cell_type": "code",
      "metadata": {
        "colab": {
          "base_uri": "https://localhost:8080/",
          "height": 230
        },
        "id": "JaROTj4CnwyJ",
        "outputId": "dc3fff03-8e55-4b8b-9a07-3c0bf125fa45"
      },
      "source": [
        "plt.figure(figsize=(4,3))\n",
        "cmap = sns.diverging_palette(180, 150, as_cmap=True)\n",
        "sns.heatmap(pd.DataFrame(confusion_matrix(y_test, y_pred), index=[0, 1], \n",
        "                         columns=[0, 1]), annot=True, linewidths=1, cmap=cmap, square=True)"
      ],
      "execution_count": 67,
      "outputs": [
        {
          "output_type": "execute_result",
          "data": {
            "text/plain": [
              "<matplotlib.axes._subplots.AxesSubplot at 0x7f35d26bcd50>"
            ]
          },
          "metadata": {},
          "execution_count": 67
        },
        {
          "output_type": "display_data",
          "data": {
            "image/png": "[encoded data removed]",
            "text/plain": [
              "<Figure size 288x216 with 2 Axes>"
            ]
          },
          "metadata": {
            "needs_background": "light"
          }
        }
      ]
    },
    {
      "cell_type": "markdown",
      "metadata": {
        "id": "qo3SMANKnwyK"
      },
      "source": [
        "### Реализация логистической регрессии\n",
        "__Логистическая регрессия__\n",
        "\n",
        "$$p(y|x) = a(x, \\theta) = \\sigma(\\langle x, \\theta \\rangle) = \\frac{1}{1 + \\exp(-\\langle \\theta, x_i \\rangle)}$$"
      ]
    },
    {
      "cell_type": "code",
      "metadata": {
        "id": "Yd9LOzrrnwyK"
      },
      "source": [
        "theta = np.array([1, 2, 3])\n",
        "\n",
        "X =  np.array([[ 1,  1, 1],\n",
        "               [-1, -2, 1],\n",
        "               [-1, -2, 2],\n",
        "               [-2, -2, -3]\n",
        "              ])\n",
        "\n",
        "y = np.array([1, 1, 0, 0])"
      ],
      "execution_count": 68,
      "outputs": []
    },
    {
      "cell_type": "code",
      "metadata": {
        "id": "P6R-3oOPnwyK"
      },
      "source": [
        "def probability(theta, X):\n",
        "    result = np.divide(1, 1 + np.exp(-X @ theta.T))\n",
        "    return result\n",
        "prob = probability(theta, X)\n",
        "\n",
        "\n",
        "assert type(prob) == np.ndarray, 'Возвращается неверный тип'\n",
        "assert prob.shape == (X.shape[0],), 'Неверный размер массива'\n",
        "assert (prob.round(3) == [0.998, 0.119, 0.731, 0.]).all(), 'Функция считается неверно'"
      ],
      "execution_count": 69,
      "outputs": []
    },
    {
      "cell_type": "markdown",
      "metadata": {
        "id": "C61T6GzZnwyK"
      },
      "source": [
        "Функция предсказания метки класса, получает на вход вероятности принадлежности к классу 1 и выдает метки классов $y \\in \\{0, 1\\}$"
      ]
    },
    {
      "cell_type": "code",
      "metadata": {
        "scrolled": true,
        "id": "oGrBL8H5nwyK"
      },
      "source": [
        "def binary_class_prediction(theta, X, threshold =.5):\n",
        "    prob =  probability(theta, X)\n",
        "    result = np.where(prob > threshold, 1, 0)\n",
        "    return result\n",
        "\n",
        "y_pred = binary_class_prediction(theta, X)\n",
        "\n",
        "\n",
        "assert type(y_pred) == np.ndarray, 'Возвращается неверный тип'\n",
        "assert y_pred.shape == (X.shape[0],), 'Неверный размер массива'\n",
        "assert min(y_pred) == 0, 'Функция считается неверно'\n",
        "assert max(y_pred) == 1, 'Функция считается неверно'"
      ],
      "execution_count": 70,
      "outputs": []
    },
    {
      "cell_type": "markdown",
      "metadata": {
        "id": "1bYR85xanwyL"
      },
      "source": [
        "__Функционал качества логистической регрессии__\n",
        "\n",
        "Запишем правдободовие выборки для меток класса $y \\in \\{+1, -1\\}$ \n",
        "\n",
        "$$Likelihood(a, X^\\ell) = \\prod_{i = 1}^{\\ell} a(x_i,\\theta)^{[y_i = +1]} (1 - a(x_i, \\theta))^{[y_i = -1]} → \\operatorname*{max}_{\\theta}$$ \n",
        "\n",
        "Прологарифмируем правдоподобие выборки и перейдем к задаче минимизации:\n",
        "\n",
        "$$Q(a, X^\\ell) =     -\\sum_{i = 1}^{\\ell} \n",
        "        [y_i = +1] \\log a(x_i, \\theta)\n",
        "        +\n",
        "        [y_i = -1] \\log (1 - a(x_i, \\theta)) \\to \\operatorname*{min}_{\\theta}$$ \n",
        "        \n",
        "Подставим $a(x, \\theta)$ в функцинал качества:\n",
        "\n",
        "$$ Q(a, X^\\ell) = -\\sum_{i = 1}^{\\ell} \\left(\n",
        "    [y_i = +1]\n",
        "    \\log \\frac{1}{1 + \\exp(-\\langle \\theta, x_i \\rangle)}\n",
        "    +\n",
        "    [y_i = -1]\n",
        "    \\log \\frac{\\exp(-\\langle \\theta, x_i \\rangle)}{1 + \\exp(-\\langle \\theta, x_i \\rangle)}\n",
        "\\right)\n",
        "=\\\\\n",
        "=\n",
        "-\\sum_{i = 1}^{\\ell} \\left(\n",
        "    [y_i = +1]\n",
        "    \\log \\frac{1}{1 + \\exp(-\\langle \\theta, x_i \\rangle)}\n",
        "    +\n",
        "    [y_i = -1]\n",
        "    \\log \\frac{1}{1 + \\exp(\\langle \\theta, x_i \\rangle)}\n",
        "\\right)\n",
        "=\\\\\n",
        "=\n",
        "\\sum_{i = 1}^{\\ell}\n",
        "    \\log \\left(\n",
        "        1 + \\exp(-y_i \\langle \\theta, x_i \\rangle)\n",
        "    \\right) $$\n",
        "    "
      ]
    },
    {
      "cell_type": "markdown",
      "metadata": {
        "id": "D-hS8Ua_nwyL"
      },
      "source": [
        "Итоговый оптимизируемый функционал качества (logloss), записанный для меток классов $y \\in \\{+1, -1\\}$ и усредненный по выборке"
      ]
    },
    {
      "cell_type": "markdown",
      "metadata": {
        "id": "HtvbQRoDnwyL"
      },
      "source": [
        "$$Q(a, X^\\ell) = \\frac{1}{\\ell}\\sum_{i = 1}^{\\ell}\n",
        "    \\log \\left(\n",
        "        1 + \\exp(-y_i \\langle \\theta, x_i \\rangle)\n",
        "    \\right) \\to \\operatorname*{min}_{\\theta}$$"
      ]
    },
    {
      "cell_type": "markdown",
      "metadata": {
        "id": "8sKO1W9SnwyM"
      },
      "source": [
        "Реализуем его в функции logloss:"
      ]
    },
    {
      "cell_type": "code",
      "metadata": {
        "id": "InsYiiGjnwyM"
      },
      "source": [
        "def logloss(theta, X, y):\n",
        "    result = np.sum(np.log(1 + np.exp(-np.where( y == 1, 1, -1) * (X @ theta.T)))) / y.shape[0]\n",
        "    return result"
      ],
      "execution_count": 71,
      "outputs": []
    },
    {
      "cell_type": "code",
      "metadata": {
        "id": "7n8dprq2nwyM"
      },
      "source": [
        "assert logloss(theta, X, y).round(3) == 0.861, 'Функция считается неверно'"
      ],
      "execution_count": 72,
      "outputs": []
    },
    {
      "cell_type": "markdown",
      "metadata": {
        "id": "Ooa_pRIOnwyM"
      },
      "source": [
        "__Алгоритм оптимизации функционала качества. Стохастический градиентный спуск__"
      ]
    },
    {
      "cell_type": "markdown",
      "metadata": {
        "id": "MyB4eM5anwyM"
      },
      "source": [
        "<b>Вход: </b> Выборка $X^\\ell$, темп обучения $h$\n",
        "\n",
        "<b>Выход: </b> оптимальный вектор весов $\\theta$\n",
        "\n",
        "1.  Инициализировать веса $\\theta$\n",
        "2.  Инициализировать оценку функционала качества: $Q(a, X^\\ell)$\n",
        "3.  <b>Повторять</b>: \n",
        "\n",
        "    Выбрать случайным образом подвыборку объектов $X^{batch} =\\{x_1, \\dots,x_n \\}$ из $X^{\\ell}$\n",
        "    \n",
        "    Рассчитать градиент функционала качества: $\\nabla Q(X^{batch}, \\theta)$\n",
        "    \n",
        "    Обновить веса: $\\theta := \\theta - h\\cdot \\nabla Q(X^{batch}, \\theta)$\n",
        "       \n",
        "    <b>Пока</b> значение $Q$ и/или веса $\\theta$ не сойдутся   "
      ]
    },
    {
      "cell_type": "markdown",
      "metadata": {
        "id": "gE2tuimdnwyN"
      },
      "source": [
        "Реализуем функцию рассчета градиента функционала качества"
      ]
    },
    {
      "cell_type": "markdown",
      "metadata": {
        "id": "RnhxtEmUnwyN"
      },
      "source": [
        "$$\\frac{\\partial Q(a, X^{batch}) }{\\partial \\theta_j}   = \\frac{\\partial \\frac{1}{n}\\sum_{i = 1}^{n}\n",
        "    \\log \\left(\n",
        "        1 + \\exp(- y_i \\langle \\theta, x_i \\rangle)\n",
        "    \\right)} {\\partial \\theta_j}  = \\frac{1}{n}\\sum_{i = 1}^{n}\n",
        "     \\frac {1}{\n",
        "        1 + \\exp(- y_i \\langle \\theta, x_i \\rangle)} \\cdot  \\exp(- y_i \\langle \\theta, x_i \\rangle) \\cdot -y_i x_{ij}$$"
      ]
    },
    {
      "cell_type": "markdown",
      "metadata": {
        "id": "hePIjLrJnwyN"
      },
      "source": [
        "Реализуйте рассчет градиента в матричном виде:"
      ]
    },
    {
      "cell_type": "code",
      "metadata": {
        "id": "FrLL1T6QnwyN"
      },
      "source": [
        "def gradient(theta, X, y):\n",
        "    y = np.where(y == 1, 1, -1)    \n",
        "    result = np.sum(-y * X.T * np.exp(-y * (X @ theta.T)) / (1 + np.exp(-y * (X @ theta.T))), axis=1) / y.shape[0]\n",
        "    return result \n",
        "\n",
        "assert gradient(theta, X, y).shape == theta.shape, 'Неверный размер массива'"
      ],
      "execution_count": 73,
      "outputs": []
    },
    {
      "cell_type": "markdown",
      "metadata": {
        "id": "43d1-BXVnwyN"
      },
      "source": [
        "Функция обучения уже реализована"
      ]
    },
    {
      "cell_type": "code",
      "metadata": {
        "id": "TcZKzMRanwyN"
      },
      "source": [
        "def fit(X, y, batch_size=10, h=0.05,  iters=100, plot=True):\n",
        "\n",
        "    # получаем размерности матрицы\n",
        "    size, dim = X.shape\n",
        "\n",
        "    # случайная начальная инициализация\n",
        "    theta = np.random.uniform(size=dim)\n",
        "    \n",
        "    errors = []\n",
        "    \n",
        "    theta_history = theta\n",
        "    colors = [plt.get_cmap('gist_rainbow')(i) for i in np.linspace(0,1,dim)]\n",
        "    \n",
        "    # plt \n",
        "    if plot:\n",
        "        fig = plt.figure(figsize=(10, 6))\n",
        "        ax1 = fig.add_subplot(221)\n",
        "        ax2 = fig.add_subplot(222)\n",
        "        ax3 = fig.add_subplot(212)\n",
        "        fig.suptitle('Gradient descent')\n",
        "        \n",
        "        \n",
        "    for _ in range(iters):  \n",
        "        \n",
        "        # берём случайный набор элементов\n",
        "        batch = np.random.choice(size, batch_size, replace=False)\n",
        "        X_batch = X[batch]\n",
        "        y_batch = y[batch]\n",
        "\n",
        "        # считаем производные\n",
        "        grad = gradient(theta, X_batch, y_batch)\n",
        "        \n",
        "        assert type(grad) == np.ndarray, 'неверный тип'\n",
        "        assert len(grad.shape) == 1, 'Необходимо вернуть одномерный вектор'\n",
        "        assert grad.shape[0] == len(theta), 'длина вектора должна быть равной количеству весов'\n",
        "        \n",
        "        \n",
        "        # Обновляем веса\n",
        "        \n",
        "        theta -= grad * h\n",
        "        \n",
        "        theta_history = np.vstack((theta_history, theta))\n",
        "        \n",
        "        # error\n",
        "        loss = logloss(theta, X, y)\n",
        "        errors.append(loss)\n",
        "        \n",
        "        if plot:\n",
        "            ax1.clear()            \n",
        "            ax1.scatter(range(dim), theta, label='Gradient solution')\n",
        "            ax1.legend(loc=\"upper left\")\n",
        "            ax1.set_title('theta')\n",
        "            ax1.set_ylabel(r'$\\bar \\beta$')\n",
        "            ax1.set_xlabel('weight ID')\n",
        "            \n",
        "            \n",
        "            ax2.plot(range(_+1), errors, 'g-')\n",
        "            ax2.set_title('logloss')\n",
        "            ax2.set_xlabel('itarations')\n",
        "            \n",
        "            ax3.plot(theta_history)\n",
        "            ax3.set_title('update theta')\n",
        "            ax3.set_ylabel('value')\n",
        "            ax3.set_xlabel('itarations')\n",
        "            time.sleep(0.05)\n",
        "            fig.canvas.draw()   \n",
        "            \n",
        "    return theta"
      ],
      "execution_count": 74,
      "outputs": []
    },
    {
      "cell_type": "markdown",
      "metadata": {
        "id": "EIkaQjHinwyO"
      },
      "source": [
        "### Реализация на произвольно сгенерированных данных"
      ]
    },
    {
      "cell_type": "code",
      "metadata": {
        "id": "OUcW021inwyO"
      },
      "source": [
        "X, y = make_classification(n_samples=2000)"
      ],
      "execution_count": 75,
      "outputs": []
    },
    {
      "cell_type": "code",
      "metadata": {
        "colab": {
          "base_uri": "https://localhost:8080/",
          "height": 437
        },
        "id": "PNpeNoarnwyO",
        "outputId": "b5e7cf2d-729d-4b6b-bb8e-7694e082894c"
      },
      "source": [
        "optimal_theta = fit(X, y)"
      ],
      "execution_count": 76,
      "outputs": [
        {
          "output_type": "display_data",
          "data": {
            "image/png": "[encoded data removed]",
            "text/plain": [
              "<Figure size 720x432 with 3 Axes>"
            ]
          },
          "metadata": {
            "needs_background": "light"
          }
        }
      ]
    },
    {
      "cell_type": "code",
      "metadata": {
        "colab": {
          "base_uri": "https://localhost:8080/"
        },
        "id": "JcLsiietnwyO",
        "outputId": "2c43112c-9151-4bef-e01a-23a509ab7332"
      },
      "source": [
        "y_pred = binary_class_prediction(optimal_theta, X)\n",
        "print(classification_report(y, y_pred, target_names=['No', 'Yes']))"
      ],
      "execution_count": 77,
      "outputs": [
        {
          "output_type": "stream",
          "name": "stdout",
          "text": [
            "              precision    recall  f1-score   support\n",
            "\n",
            "          No       0.89      0.87      0.88      1003\n",
            "         Yes       0.87      0.89      0.88       997\n",
            "\n",
            "    accuracy                           0.88      2000\n",
            "   macro avg       0.88      0.88      0.88      2000\n",
            "weighted avg       0.88      0.88      0.88      2000\n",
            "\n"
          ]
        }
      ]
    },
    {
      "cell_type": "code",
      "metadata": {
        "colab": {
          "base_uri": "https://localhost:8080/",
          "height": 230
        },
        "id": "BX0gwqG9nwyP",
        "outputId": "9bec3737-8543-4b64-ef88-67f641ffaa01"
      },
      "source": [
        "plt.figure(figsize=(4,3))\n",
        "cmap = sns.diverging_palette(180, 150, as_cmap=True)\n",
        "sns.heatmap(pd.DataFrame(confusion_matrix(y, y_pred), index=[0, 1], \n",
        "                         columns=[0, 1]), annot=True, linewidths=1, cmap=cmap, square=True)"
      ],
      "execution_count": 78,
      "outputs": [
        {
          "output_type": "execute_result",
          "data": {
            "text/plain": [
              "<matplotlib.axes._subplots.AxesSubplot at 0x7f35c8688a50>"
            ]
          },
          "metadata": {},
          "execution_count": 78
        },
        {
          "output_type": "display_data",
          "data": {
            "image/png": "[encoded data removed]",
            "text/plain": [
              "<Figure size 288x216 with 2 Axes>"
            ]
          },
          "metadata": {
            "needs_background": "light"
          }
        }
      ]
    },
    {
      "cell_type": "markdown",
      "metadata": {
        "id": "ztlFQN8NnwyP"
      },
      "source": [
        "### Реализация на данных о погоде"
      ]
    },
    {
      "cell_type": "code",
      "metadata": {
        "colab": {
          "base_uri": "https://localhost:8080/",
          "height": 437
        },
        "id": "-80NCccZnwyP",
        "outputId": "fd62da30-8e7d-4ef5-abb7-656d91667e5c"
      },
      "source": [
        "optimal_theta = fit(x_train.values, y_train.values)"
      ],
      "execution_count": 79,
      "outputs": [
        {
          "output_type": "display_data",
          "data": {
            "image/png": "[encoded data removed]",
            "text/plain": [
              "<Figure size 720x432 with 3 Axes>"
            ]
          },
          "metadata": {
            "needs_background": "light"
          }
        }
      ]
    },
    {
      "cell_type": "code",
      "metadata": {
        "colab": {
          "base_uri": "https://localhost:8080/"
        },
        "id": "wFN4HzCznwyP",
        "outputId": "2da2b9ac-b40e-4b4c-b29c-6b81cce826d5"
      },
      "source": [
        "y_pred = binary_class_prediction(optimal_theta, x_test.values)\n",
        "print(classification_report(y_test.values, y_pred, target_names=['No', 'Yes']))"
      ],
      "execution_count": 80,
      "outputs": [
        {
          "output_type": "stream",
          "name": "stdout",
          "text": [
            "              precision    recall  f1-score   support\n",
            "\n",
            "          No       0.88      0.67      0.76     27882\n",
            "         Yes       0.36      0.67      0.47      7667\n",
            "\n",
            "    accuracy                           0.67     35549\n",
            "   macro avg       0.62      0.67      0.62     35549\n",
            "weighted avg       0.77      0.67      0.70     35549\n",
            "\n"
          ]
        }
      ]
    },
    {
      "cell_type": "code",
      "metadata": {
        "colab": {
          "base_uri": "https://localhost:8080/",
          "height": 230
        },
        "id": "_eIb1QaenwyP",
        "outputId": "09545872-3b43-4456-b43d-c6fd49d10726"
      },
      "source": [
        "plt.figure(figsize=(4,3))\n",
        "cmap = sns.diverging_palette(180, 150, as_cmap=True)\n",
        "sns.heatmap(pd.DataFrame(confusion_matrix(y_test.values, y_pred), index=[0, 1], \n",
        "                         columns=[0, 1]), annot=True, linewidths=1, cmap=cmap, square=True)"
      ],
      "execution_count": 81,
      "outputs": [
        {
          "output_type": "execute_result",
          "data": {
            "text/plain": [
              "<matplotlib.axes._subplots.AxesSubplot at 0x7f35c5fc8e10>"
            ]
          },
          "metadata": {},
          "execution_count": 81
        },
        {
          "output_type": "display_data",
          "data": {
            "image/png": "[encoded data removed]",
            "text/plain": [
              "<Figure size 288x216 with 2 Axes>"
            ]
          },
          "metadata": {
            "needs_background": "light"
          }
        }
      ]
    }
  ]
}