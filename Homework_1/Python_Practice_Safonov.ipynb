{
  "nbformat": 4,
  "nbformat_minor": 0,
  "metadata": {
    "kernelspec": {
      "display_name": "Python 3",
      "language": "python",
      "name": "python3"
    },
    "language_info": {
      "codemirror_mode": {
        "name": "ipython",
        "version": 3
      },
      "file_extension": ".py",
      "mimetype": "text/x-python",
      "name": "python",
      "nbconvert_exporter": "python",
      "pygments_lexer": "ipython3",
      "version": "3.8.0"
    },
    "colab": {
      "name": "Python_Practice_Safonov.ipynb",
      "provenance": [],
      "collapsed_sections": [
        "En7WTW2A4ry9",
        "yYmW64bA4ry_",
        "POeEtCXN4rzB",
        "kv_ZtNER4rzD",
        "IwYzPD2p4rzE",
        "Bum2Otp44rzH",
        "jXUNix924rzJ",
        "RHZ5ehiV4rzK",
        "F2-pcwlS4rzL"
      ]
    }
  },
  "cells": [
    {
      "cell_type": "code",
      "metadata": {
        "ExecuteTime": {
          "end_time": "2021-10-04T15:58:35.869898Z",
          "start_time": "2021-10-04T15:58:35.420168Z"
        },
        "id": "mlw8wOsM4ry3"
      },
      "source": [
        "import numpy as np\n",
        "from functools import reduce\n",
        "import pandas as pd\n",
        "import matplotlib.pyplot as plt"
      ],
      "execution_count": null,
      "outputs": []
    },
    {
      "cell_type": "markdown",
      "metadata": {
        "id": "Tai3IWyN4ry7"
      },
      "source": [
        "# Максимум 5 баллов - по ~0.7 баллов за задание"
      ]
    },
    {
      "cell_type": "markdown",
      "metadata": {
        "id": "En7WTW2A4ry9"
      },
      "source": [
        "### 1. Подсчитать произведение ненулевых элементов на диагонали прямоугольной матрицы. \n",
        "Для X = np.array([[1, 0, 1], [2, 0, 2], [3, 0, 3], [4, 4, 4]]) ответ 3."
      ]
    },
    {
      "cell_type": "code",
      "metadata": {
        "id": "QFMO3ESE4ry9"
      },
      "source": [
        "X = np.array([[1, 0, 1], [2, 0, 2], [3, 0, 3], [4, 4, 4]])"
      ],
      "execution_count": null,
      "outputs": []
    },
    {
      "cell_type": "code",
      "metadata": {
        "scrolled": true,
        "colab": {
          "base_uri": "https://localhost:8080/"
        },
        "id": "npl79ipa4ry9",
        "outputId": "ac4e4fcc-74b8-4b23-8248-578fcc107927"
      },
      "source": [
        "%%timeit \n",
        "result = 1\n",
        "for i in range(X.shape[0]):\n",
        "    for j in range(X.shape[1]):\n",
        "        if (i == j) & (X[i][j] != 0):\n",
        "            result *= X[i][j]"
      ],
      "execution_count": null,
      "outputs": [
        {
          "output_type": "stream",
          "name": "stdout",
          "text": [
            "The slowest run took 11.75 times longer than the fastest. This could mean that an intermediate result is being cached.\n",
            "10000 loops, best of 5: 29.2 µs per loop\n"
          ]
        }
      ]
    },
    {
      "cell_type": "code",
      "metadata": {
        "colab": {
          "base_uri": "https://localhost:8080/"
        },
        "id": "zw5dsCvx4ry-",
        "outputId": "219478f0-b1e5-44cf-b9d3-6bbe72fbb55e"
      },
      "source": [
        "%%timeit\n",
        "result = reduce(lambda x, y: x*y, [X[i][j] for i in range(X.shape[0]) for j in range(X.shape[1]) if (i == j) & (X[i][j] != 0)])"
      ],
      "execution_count": null,
      "outputs": [
        {
          "output_type": "stream",
          "name": "stdout",
          "text": [
            "10000 loops, best of 5: 29.9 µs per loop\n"
          ]
        }
      ]
    },
    {
      "cell_type": "code",
      "metadata": {
        "colab": {
          "base_uri": "https://localhost:8080/"
        },
        "id": "7h7pAsxC4ry_",
        "outputId": "306118a9-6673-4ff9-93db-0a22164e2068"
      },
      "source": [
        "%%timeit \n",
        "result = np.prod(np.diag(X), where=np.diag(X) != 0)"
      ],
      "execution_count": null,
      "outputs": [
        {
          "output_type": "stream",
          "name": "stdout",
          "text": [
            "The slowest run took 394.60 times longer than the fastest. This could mean that an intermediate result is being cached.\n",
            "100000 loops, best of 5: 13.4 µs per loop\n"
          ]
        }
      ]
    },
    {
      "cell_type": "markdown",
      "metadata": {
        "id": "yYmW64bA4ry_"
      },
      "source": [
        "### 2. Дана матрица X и два вектора одинаковой длины i и j. Построить вектор nparray([X[i[0], j[0]], X[i[1], j[1]], ... , X[i[N-1], j[N-1]]])."
      ]
    },
    {
      "cell_type": "code",
      "metadata": {
        "id": "2wEBI5Yp4rzA"
      },
      "source": [
        "X = np.random.randint(5, size=(5,5))\n",
        "i = np.random.randint(5, size=(5))\n",
        "j = np.random.randint(5, size=(5))\n",
        "result = np.ones(5)"
      ],
      "execution_count": null,
      "outputs": []
    },
    {
      "cell_type": "code",
      "metadata": {
        "colab": {
          "base_uri": "https://localhost:8080/"
        },
        "id": "90yWRZ9A4rzA",
        "outputId": "bf143f36-945b-42c6-f49e-a19c34f0d635"
      },
      "source": [
        "%%timeit\n",
        "for t in range(result.size):\n",
        "    result[t] = X[i[t]][j[t]]"
      ],
      "execution_count": null,
      "outputs": [
        {
          "output_type": "stream",
          "name": "stdout",
          "text": [
            "The slowest run took 9.67 times longer than the fastest. This could mean that an intermediate result is being cached.\n",
            "100000 loops, best of 5: 4.71 µs per loop\n"
          ]
        }
      ]
    },
    {
      "cell_type": "code",
      "metadata": {
        "colab": {
          "base_uri": "https://localhost:8080/"
        },
        "id": "OKAP7fi94rzA",
        "outputId": "089aeccb-d424-4fca-f084-69711e6c8f7b"
      },
      "source": [
        "%%timeit\n",
        "res = np.array([X[i[t]][j[t]] for t in range(result.copy().size)])"
      ],
      "execution_count": null,
      "outputs": [
        {
          "output_type": "stream",
          "name": "stdout",
          "text": [
            "The slowest run took 7.39 times longer than the fastest. This could mean that an intermediate result is being cached.\n",
            "100000 loops, best of 5: 7.83 µs per loop\n"
          ]
        }
      ]
    },
    {
      "cell_type": "code",
      "metadata": {
        "colab": {
          "base_uri": "https://localhost:8080/"
        },
        "id": "Gwz6y6Bq4rzB",
        "outputId": "ace37429-c6d8-43ee-faf1-9bed91235f62"
      },
      "source": [
        "%%timeit\n",
        "result = X[i, j]"
      ],
      "execution_count": null,
      "outputs": [
        {
          "output_type": "stream",
          "name": "stdout",
          "text": [
            "The slowest run took 145.06 times longer than the fastest. This could mean that an intermediate result is being cached.\n",
            "1000000 loops, best of 5: 1.18 µs per loop\n"
          ]
        }
      ]
    },
    {
      "cell_type": "markdown",
      "metadata": {
        "id": "POeEtCXN4rzB"
      },
      "source": [
        "### 3. Даны два вектора x и y. Проверить, задают ли они одно и то же мультимножество. \n",
        "Для x = np.array([1, 2, 2, 4]), y = np.array([4, 2, 1, 2]) ответ True."
      ]
    },
    {
      "cell_type": "code",
      "metadata": {
        "id": "FRY6Kraj4rzB"
      },
      "source": [
        "x = np.array([1, 2, 2, 4])\n",
        "y = np.array([4, 2, 1, 2])"
      ],
      "execution_count": null,
      "outputs": []
    },
    {
      "cell_type": "code",
      "metadata": {
        "colab": {
          "base_uri": "https://localhost:8080/"
        },
        "id": "Tx5BKAik4rzC",
        "outputId": "7a336416-f64b-4eb2-ca63-26fa7b0cf4b3"
      },
      "source": [
        "%%timeit\n",
        "np.array_equiv(np.unique(x), np.unique(y))"
      ],
      "execution_count": null,
      "outputs": [
        {
          "output_type": "stream",
          "name": "stdout",
          "text": [
            "The slowest run took 11.95 times longer than the fastest. This could mean that an intermediate result is being cached.\n",
            "10000 loops, best of 5: 19.8 µs per loop\n"
          ]
        }
      ]
    },
    {
      "cell_type": "code",
      "metadata": {
        "colab": {
          "base_uri": "https://localhost:8080/"
        },
        "id": "RBeiaX6T4rzC",
        "outputId": "2491735e-013c-4831-97a9-fd5f4e44b551"
      },
      "source": [
        "%%timeit\n",
        "(np.isin(x, y) == np.isin(y, x)).all()"
      ],
      "execution_count": null,
      "outputs": [
        {
          "output_type": "stream",
          "name": "stdout",
          "text": [
            "The slowest run took 5.20 times longer than the fastest. This could mean that an intermediate result is being cached.\n",
            "10000 loops, best of 5: 35.5 µs per loop\n"
          ]
        }
      ]
    },
    {
      "cell_type": "code",
      "metadata": {
        "colab": {
          "base_uri": "https://localhost:8080/"
        },
        "id": "OWAD4P-94rzC",
        "outputId": "5b2f28e1-7d81-4d98-ca98-18fd8421424b"
      },
      "source": [
        "%%timeit\n",
        "(np.unique(x) == np.unique(y)).all()"
      ],
      "execution_count": null,
      "outputs": [
        {
          "output_type": "stream",
          "name": "stdout",
          "text": [
            "The slowest run took 6.86 times longer than the fastest. This could mean that an intermediate result is being cached.\n",
            "100000 loops, best of 5: 17.3 µs per loop\n"
          ]
        }
      ]
    },
    {
      "cell_type": "markdown",
      "metadata": {
        "id": "kv_ZtNER4rzD"
      },
      "source": [
        "### 4. Найти максимальный элемент в векторе x среди элементов, перед которыми стоит нулевой. \n",
        "Для x = np.array([6, 2, 0, 3, 0, 0, 5, 7, 0]) ответ 5."
      ]
    },
    {
      "cell_type": "code",
      "metadata": {
        "id": "4BuW9tJW4rzD"
      },
      "source": [
        "x = np.array([6, 2, 0, 3, 0, 0, 5, 7, 0])"
      ],
      "execution_count": null,
      "outputs": []
    },
    {
      "cell_type": "code",
      "metadata": {
        "colab": {
          "base_uri": "https://localhost:8080/"
        },
        "id": "yG7RbkjL4rzD",
        "outputId": "1b940cdc-a2bd-4fb6-d887-b23175e52d15"
      },
      "source": [
        "%%timeit\n",
        "result = min(x)\n",
        "for i in range(x.size - 1):\n",
        "    if (x[i] == 0) & (x[i + 1] > result):\n",
        "        result = x[i + 1]"
      ],
      "execution_count": null,
      "outputs": [
        {
          "output_type": "stream",
          "name": "stdout",
          "text": [
            "The slowest run took 5.43 times longer than the fastest. This could mean that an intermediate result is being cached.\n",
            "100000 loops, best of 5: 7.76 µs per loop\n"
          ]
        }
      ]
    },
    {
      "cell_type": "code",
      "metadata": {
        "colab": {
          "base_uri": "https://localhost:8080/"
        },
        "id": "HShKX8ep4rzD",
        "outputId": "1f6bc989-c0b0-493d-fdba-ebbba665b6b7"
      },
      "source": [
        "%%timeit\n",
        "x_min = min(x)\n",
        "result = max([x[i + 1] for i in range(x.size - 1) if (x[i] == 0) & (x[i + 1] > x_min)])"
      ],
      "execution_count": null,
      "outputs": [
        {
          "output_type": "stream",
          "name": "stdout",
          "text": [
            "The slowest run took 4.49 times longer than the fastest. This could mean that an intermediate result is being cached.\n",
            "100000 loops, best of 5: 8.25 µs per loop\n"
          ]
        }
      ]
    },
    {
      "cell_type": "code",
      "metadata": {
        "colab": {
          "base_uri": "https://localhost:8080/"
        },
        "id": "DO8IfKol4rzE",
        "outputId": "95fa28f3-f26c-45a0-e090-e9512e30d519"
      },
      "source": [
        "%%timeit\n",
        "result = max(x[1:][np.where((x[:-1] == 0) & (x[:-1] < x[1:]))[0]])"
      ],
      "execution_count": null,
      "outputs": [
        {
          "output_type": "stream",
          "name": "stdout",
          "text": [
            "The slowest run took 11.33 times longer than the fastest. This could mean that an intermediate result is being cached.\n",
            "100000 loops, best of 5: 6.34 µs per loop\n"
          ]
        }
      ]
    },
    {
      "cell_type": "markdown",
      "metadata": {
        "id": "IwYzPD2p4rzE"
      },
      "source": [
        "### 5. Дан трёхмерный массив, содержащий изображение размера (height, width, numChannels), а также вектор длины numChannels. Сложить каналы изображения с указанными весами, и вернуть результат в виде матрицы размера (height, width). Считать реальное изображение можно при помощи функции scipy.misc.imread (если изображение не в формате png, установите пакет pillow: conda install pillow). Преобразуйте цветное изображение в оттенки серого, использовав коэффициенты np.array([0.299, 0.587, 0.114])."
      ]
    },
    {
      "cell_type": "code",
      "metadata": {
        "colab": {
          "base_uri": "https://localhost:8080/"
        },
        "id": "_BIOYCTAZ2FD",
        "outputId": "23475142-adec-4940-d07e-c5e44665b3d9"
      },
      "source": [
        "import requests\n",
        "from io import BytesIO\n",
        "from PIL import Image\n",
        "url = 'https://raw.githubusercontent.com/AndroidSaf/BMSTU_projects/main/Laboratory%20works/Numerical%20methods/python.jpg'\n",
        "page = requests.get(url)\n",
        "image = Image.open(BytesIO(page.content))\n",
        "image"
      ],
      "execution_count": null,
      "outputs": [
        {
          "output_type": "execute_result",
          "data": {
            "image/png": "[encoded data removed]",
            "text/plain": [
              "<PIL.JpegImagePlugin.JpegImageFile image mode=RGB size=256x256 at 0x7FF567EEEF90>"
            ]
          },
          "metadata": {},
          "execution_count": 1
        }
      ]
    },
    {
      "cell_type": "code",
      "metadata": {
        "id": "_iffeeH44rzF"
      },
      "source": [
        "im_3d_array = np.asarray(image)"
      ],
      "execution_count": null,
      "outputs": []
    },
    {
      "cell_type": "code",
      "metadata": {
        "id": "YPDtaRFf4rzG",
        "colab": {
          "base_uri": "https://localhost:8080/"
        },
        "outputId": "dec67260-32e2-4a93-cfc0-40d94e78b68d"
      },
      "source": [
        "%%timeit\n",
        "im_2d_array = np.zeros(im_3d_array.shape[:2])\n",
        "for i in range(im_2d_array.shape[0]):\n",
        "    for j in range(im_2d_array.shape[1]):\n",
        "        im_2d_array[i, j] = sum(im_3d_array[i, j, :])"
      ],
      "execution_count": null,
      "outputs": [
        {
          "output_type": "stream",
          "name": "stdout",
          "text": [
            "1 loop, best of 5: 277 ms per loop\n"
          ]
        }
      ]
    },
    {
      "cell_type": "code",
      "metadata": {
        "colab": {
          "base_uri": "https://localhost:8080/"
        },
        "id": "KSq1clf2iyWA",
        "outputId": "c483481c-98b5-4f51-c36a-c141d116e937"
      },
      "source": [
        "%%timeit\n",
        "im_2d_array = im_3d_array.sum(axis=2)"
      ],
      "execution_count": null,
      "outputs": [
        {
          "output_type": "stream",
          "name": "stdout",
          "text": [
            "1000 loops, best of 5: 1.42 ms per loop\n"
          ]
        }
      ]
    },
    {
      "cell_type": "code",
      "metadata": {
        "id": "2dUGdDrf4rzG",
        "colab": {
          "base_uri": "https://localhost:8080/"
        },
        "outputId": "cb453fc1-75ae-46be-ce43-855a6fbac64c"
      },
      "source": [
        "%%timeit\n",
        "im_2d_array = np.sum(im_3d_array, axis=2)"
      ],
      "execution_count": null,
      "outputs": [
        {
          "output_type": "stream",
          "name": "stdout",
          "text": [
            "1000 loops, best of 5: 1.42 ms per loop\n"
          ]
        }
      ]
    },
    {
      "cell_type": "code",
      "metadata": {
        "colab": {
          "base_uri": "https://localhost:8080/"
        },
        "id": "eAo-RUoBtG19",
        "outputId": "a864e098-fd43-4033-81f1-13bf1a4b27ed"
      },
      "source": [
        "%%timeit\n",
        "im_2d_array = np.dot(im_3d_array, np.ones(3))"
      ],
      "execution_count": null,
      "outputs": [
        {
          "output_type": "stream",
          "name": "stdout",
          "text": [
            "100 loops, best of 5: 2.05 ms per loop\n"
          ]
        }
      ]
    },
    {
      "cell_type": "code",
      "metadata": {
        "id": "X_h6bXr04rzG"
      },
      "source": [
        "ch_vector = np.array([0.299, 0.587, 0.114])"
      ],
      "execution_count": null,
      "outputs": []
    },
    {
      "cell_type": "code",
      "metadata": {
        "colab": {
          "base_uri": "https://localhost:8080/"
        },
        "id": "YfL-Ue-jrtzE",
        "outputId": "8263ca1c-a1d5-4859-b64d-593a3c20b51a"
      },
      "source": [
        "%%timeit\n",
        "new_image = Image.fromarray(np.sum(im_3d_array * ch_vector, axis=2).astype('uint8'))"
      ],
      "execution_count": null,
      "outputs": [
        {
          "output_type": "stream",
          "name": "stdout",
          "text": [
            "100 loops, best of 5: 2.58 ms per loop\n"
          ]
        }
      ]
    },
    {
      "cell_type": "code",
      "metadata": {
        "colab": {
          "base_uri": "https://localhost:8080/"
        },
        "id": "WIsTCHjelw95",
        "outputId": "28fafb7c-c2f4-4d6a-d256-a37d43bf6622"
      },
      "source": [
        "%%timeit\n",
        "new_image = Image.fromarray((im_3d_array * ch_vector).sum(axis=2).astype('uint8'))"
      ],
      "execution_count": null,
      "outputs": [
        {
          "output_type": "stream",
          "name": "stdout",
          "text": [
            "100 loops, best of 5: 2.53 ms per loop\n"
          ]
        }
      ]
    },
    {
      "cell_type": "code",
      "metadata": {
        "colab": {
          "base_uri": "https://localhost:8080/"
        },
        "id": "1w5I8JOYsb_1",
        "outputId": "519775dd-2e76-41de-d943-7ea9026bd60b"
      },
      "source": [
        "%%timeit\n",
        "new_image = Image.fromarray(np.dot(im_3d_array, ch_vector).astype('uint8'))"
      ],
      "execution_count": null,
      "outputs": [
        {
          "output_type": "stream",
          "name": "stdout",
          "text": [
            "100 loops, best of 5: 2.28 ms per loop\n"
          ]
        }
      ]
    },
    {
      "cell_type": "code",
      "metadata": {
        "colab": {
          "base_uri": "https://localhost:8080/"
        },
        "id": "E34wVpEnpubr",
        "outputId": "6831e233-b3b3-4a98-8357-e4d86a76c852"
      },
      "source": [
        "%%timeit\n",
        "new_image = image.convert('L')"
      ],
      "execution_count": null,
      "outputs": [
        {
          "output_type": "stream",
          "name": "stdout",
          "text": [
            "10000 loops, best of 5: 137 µs per loop\n"
          ]
        }
      ]
    },
    {
      "cell_type": "code",
      "metadata": {
        "colab": {
          "base_uri": "https://localhost:8080/"
        },
        "id": "QNBCSjqZp4uO",
        "outputId": "d08c007d-a94f-4d76-ae4a-c51a9802d7f9"
      },
      "source": [
        "image.convert('L')"
      ],
      "execution_count": null,
      "outputs": [
        {
          "output_type": "execute_result",
          "data": {
            "image/png": "[encoded data removed]",
            "text/plain": [
              "<PIL.Image.Image image mode=L size=256x256 at 0x7FDD6D1CDE10>"
            ]
          },
          "metadata": {},
          "execution_count": 183
        }
      ]
    },
    {
      "cell_type": "markdown",
      "metadata": {
        "id": "Bum2Otp44rzH"
      },
      "source": [
        "### 6. Реализовать кодирование длин серий (Run-length encoding). Дан вектор x. Необходимо вернуть кортеж из двух векторов одинаковой длины. Первый содержит числа, а второй - сколько раз их нужно повторить. \n",
        "Пример: x = np.array([2, 2, 2, 3, 3, 3, 5]). Ответ: (np.array([2, 3, 5]), np.array([3, 3, 1]))."
      ]
    },
    {
      "cell_type": "code",
      "metadata": {
        "id": "ifQEXk3e4rzI"
      },
      "source": [
        "x = np.array([2, 2, 2, 3, 3, 3, 5])"
      ],
      "execution_count": null,
      "outputs": []
    },
    {
      "cell_type": "code",
      "metadata": {
        "colab": {
          "base_uri": "https://localhost:8080/"
        },
        "id": "iVw42YQB4rzI",
        "outputId": "a9d712d0-2a33-464e-c561-703b59756a23"
      },
      "source": [
        "%%timeit\n",
        "values = []\n",
        "freq_values = []\n",
        "for i in set(x):\n",
        "    values.append(i)\n",
        "    freq_values.append(x.tolist().count(i))\n",
        "result = (np.array(values), np.array(freq_values))"
      ],
      "execution_count": null,
      "outputs": [
        {
          "output_type": "stream",
          "name": "stdout",
          "text": [
            "The slowest run took 5.81 times longer than the fastest. This could mean that an intermediate result is being cached.\n",
            "100000 loops, best of 5: 10.7 µs per loop\n"
          ]
        }
      ]
    },
    {
      "cell_type": "code",
      "metadata": {
        "colab": {
          "base_uri": "https://localhost:8080/"
        },
        "id": "Odk1XyGG4rzI",
        "outputId": "ccf19234-3c73-4ad6-95c0-6f92c035c0d9"
      },
      "source": [
        "%%timeit\n",
        "new_x = pd.Series(x).value_counts()\n",
        "result = (new_x.index, new_x.values)"
      ],
      "execution_count": null,
      "outputs": [
        {
          "output_type": "stream",
          "name": "stdout",
          "text": [
            "The slowest run took 6.80 times longer than the fastest. This could mean that an intermediate result is being cached.\n",
            "1000 loops, best of 5: 550 µs per loop\n"
          ]
        }
      ]
    },
    {
      "cell_type": "code",
      "metadata": {
        "colab": {
          "base_uri": "https://localhost:8080/"
        },
        "id": "FaaMo9po4rzI",
        "outputId": "1d0a183d-0f0a-4799-fdd4-fd807befdcc8"
      },
      "source": [
        "%%timeit\n",
        "result = np.unique(x, return_counts=True)"
      ],
      "execution_count": null,
      "outputs": [
        {
          "output_type": "stream",
          "name": "stdout",
          "text": [
            "The slowest run took 7.56 times longer than the fastest. This could mean that an intermediate result is being cached.\n",
            "10000 loops, best of 5: 19.2 µs per loop\n"
          ]
        }
      ]
    },
    {
      "cell_type": "markdown",
      "metadata": {
        "id": "jXUNix924rzJ"
      },
      "source": [
        "### 7. Даны две выборки объектов - X и Y. Вычислить матрицу евклидовых расстояний между объектами. Сравнить с функцией scipy.spatial.distance.cdist."
      ]
    },
    {
      "cell_type": "code",
      "metadata": {
        "id": "IMOV8RTX4rzJ"
      },
      "source": [
        "X = ((10 - (-10)) * np.random.random((5, 2)) - 10)\n",
        "Y = ((10 - (-10)) * np.random.random((5, 2)) - 10)"
      ],
      "execution_count": null,
      "outputs": []
    },
    {
      "cell_type": "code",
      "metadata": {
        "colab": {
          "base_uri": "https://localhost:8080/"
        },
        "id": "_t3aHDAw4rzJ",
        "outputId": "551304d5-e5ad-4198-e398-db0da997f384"
      },
      "source": [
        "%%timeit\n",
        "dist_matrix = np.zeros((X.shape[0], Y.shape[0]))\n",
        "for i, x in enumerate(X):\n",
        "    for j, y in enumerate(Y): \n",
        "        dist_matrix[i][j] = np.linalg.norm(x - y)"
      ],
      "execution_count": null,
      "outputs": [
        {
          "output_type": "stream",
          "name": "stdout",
          "text": [
            "The slowest run took 6.52 times longer than the fastest. This could mean that an intermediate result is being cached.\n",
            "10000 loops, best of 5: 183 µs per loop\n"
          ]
        }
      ]
    },
    {
      "cell_type": "code",
      "metadata": {
        "id": "tCmg8UAp4rzJ"
      },
      "source": [
        "from scipy.spatial import distance_matrix"
      ],
      "execution_count": null,
      "outputs": []
    },
    {
      "cell_type": "code",
      "metadata": {
        "colab": {
          "base_uri": "https://localhost:8080/"
        },
        "id": "-zv8P2pN4rzJ",
        "outputId": "fc4ba6af-783d-4474-d238-76b8bb1f1d8c"
      },
      "source": [
        "%%timeit\n",
        "result = distance_matrix(X,Y)"
      ],
      "execution_count": null,
      "outputs": [
        {
          "output_type": "stream",
          "name": "stdout",
          "text": [
            "The slowest run took 6.21 times longer than the fastest. This could mean that an intermediate result is being cached.\n",
            "100000 loops, best of 5: 20.4 µs per loop\n"
          ]
        }
      ]
    },
    {
      "cell_type": "code",
      "metadata": {
        "id": "zKloGnnY4rzK"
      },
      "source": [
        "from scipy.spatial import distance\n",
        "X = list(zip(X[:,0], X[:,1]))\n",
        "Y = list(zip(Y[:,0], Y[:,1]))"
      ],
      "execution_count": null,
      "outputs": []
    },
    {
      "cell_type": "code",
      "metadata": {
        "colab": {
          "base_uri": "https://localhost:8080/"
        },
        "id": "4ricUtBf4rzK",
        "outputId": "3a88cfc2-1e78-438e-aa07-9aa655d96153"
      },
      "source": [
        "%%timeit\n",
        "result = distance.cdist(X, Y, \"euclidean\")"
      ],
      "execution_count": null,
      "outputs": [
        {
          "output_type": "stream",
          "name": "stdout",
          "text": [
            "The slowest run took 4.54 times longer than the fastest. This could mean that an intermediate result is being cached.\n",
            "10000 loops, best of 5: 29.7 µs per loop\n"
          ]
        }
      ]
    },
    {
      "cell_type": "markdown",
      "metadata": {
        "id": "0Uv-G4H94rzK"
      },
      "source": [
        "# Вывод\n",
        "Реализовав несколько решений для каждой задачи и проанализировав время выполнения каждого способа, можно сделать вывод, что реализация решения задач с приминением библиотеки NumPy намного эффективнее и проще в написании, нежели очередное \"изобретение велосипеда\" :)\n",
        "\n",
        "Циклы for в питоне работают очень медленно, поэтому по возможности стоит пользоваться comprehension lists, они будут выполняться \n",
        "быстрее. Все матричные операции всегда стоит реализовывать с помощью библиотеки NumPy(она написана на С++, так что работает достаточно быстро)."
      ]
    },
    {
      "cell_type": "markdown",
      "metadata": {
        "ExecuteTime": {
          "end_time": "2021-10-04T16:02:41.398576Z",
          "start_time": "2021-10-04T16:02:41.395795Z"
        },
        "id": "RHZ5ehiV4rzK"
      },
      "source": [
        "##### Замечание. Можно считать, что все указанные объекты непустые (к примеру, в задаче №1 на диагонали матрицы есть ненулевые элементы).\n",
        "Полезные функции NumPy: np.zeros, np.ones, np.diag, np.eye, np.arange, np.linspace, np.meshgrid,\n",
        "np.random.random, np.random.randint, np.shape, np.reshape, np.transpose, np.any, np.all, np.nonzero, np.where,\n",
        "np.sum, np.cumsum, np.prod, np.diff, np.min, np.max, np.minimum, np.maximum, np.argmin, np.argmax, np.unique,\n",
        "np.sort, np.argsort, np.bincount, np.ravel, np.newaxis, np.dot, np.linalg.inv, np.linalg.solve.\n",
        "Многие из этих функций можно использовать так: x.argmin()."
      ]
    },
    {
      "cell_type": "markdown",
      "metadata": {
        "id": "F2-pcwlS4rzL"
      },
      "source": [
        "# Для каждой из задач:\n",
        "(a) Написать на Python + NumPy несколько вариантов кода различной эффективности. Должно быть не\n",
        "менее трёх вариантов, в том числе как минимум один полностью векторизованный вариант, и один\n",
        "вариант без векторизации. Третий вариант решения — на ваше усмотрение, например, это может быть\n",
        "наиболее хорошо читаемый способ решения, или частично векторизованный вариант. Все варианты\n",
        "решения одной задачи должны содержаться в отдельном Python модуле.\n",
        "\n",
        "(b) Сравнить в IPython Notebook при помощи %timeit скорость работы на нескольких тестовых наборах\n",
        "разного размера (минимум 3).\n",
        "\n",
        "(c) Проанализировать полученные данные о скорости работы разных реализаций.\n",
        "\n",
        "(d) Получить выводы."
      ]
    }
  ]
}